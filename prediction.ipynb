{
 "cells": [
  {
   "cell_type": "code",
   "execution_count": 13,
   "id": "e598bef2",
   "metadata": {},
   "outputs": [],
   "source": [
    "import tensorflow as tf\n",
    "from tensorflow.keras.models import load_model\n",
    "import pandas as pd\n",
    "import numpy as np\n",
    "import pickle"
   ]
  },
  {
   "cell_type": "code",
   "execution_count": 14,
   "id": "8a52aa10",
   "metadata": {},
   "outputs": [],
   "source": [
    "#prediction data\n",
    "input_data = {\n",
    "    'CustomerId':15984101,\n",
    "    'Surname':'Watson',\n",
    "    'CreditScore':600,\n",
    "    'Geography':'France',\n",
    "    'Gender': 'Male',\n",
    "    'Age':40,\n",
    "    'Tenure':3,\n",
    "    'Balance':60000,\n",
    "    'NumOfProducts':2,\n",
    "    'HasCrCard':1,\n",
    "    'IsActiveMember':1,\n",
    "    'EstimatedSalary':50000\n",
    "}"
   ]
  },
  {
   "cell_type": "code",
   "execution_count": 15,
   "id": "52bdb15e",
   "metadata": {},
   "outputs": [
    {
     "name": "stdout",
     "output_type": "stream",
     "text": [
      "{'CreditScore': 600, 'Geography': 'France', 'Gender': 'Male', 'Age': 40, 'Tenure': 3, 'Balance': 60000, 'NumOfProducts': 2, 'HasCrCard': 1, 'IsActiveMember': 1, 'EstimatedSalary': 50000}\n"
     ]
    }
   ],
   "source": [
    "#Removing unecessary data\n",
    "del input_data['CustomerId']\n",
    "del input_data['Surname']\n",
    "print(input_data)"
   ]
  },
  {
   "cell_type": "code",
   "execution_count": 16,
   "id": "f9677f27",
   "metadata": {},
   "outputs": [
    {
     "name": "stderr",
     "output_type": "stream",
     "text": [
      "WARNING:absl:Compiled the loaded model, but the compiled metrics have yet to be built. `model.compile_metrics` will be empty until you train or evaluate the model.\n"
     ]
    }
   ],
   "source": [
    "#loading ML model\n",
    "model = load_model('model.h5')\n",
    "\n",
    "#loading encoders\n",
    "with open('gender_encoder_file.pkl','rb') as file:\n",
    "    gender_encoder = pickle.load(file)\n",
    "\n",
    "with open('geo_encoder_file.pkl','rb') as file:\n",
    "    geo_encoder = pickle.load(file)\n",
    "\n",
    "#loading input scaler\n",
    "with open('input_scaler_file.pkl','rb') as file:\n",
    "    input_scaler = pickle.load(file)\n"
   ]
  },
  {
   "cell_type": "code",
   "execution_count": 17,
   "id": "6c0abd26",
   "metadata": {},
   "outputs": [
    {
     "name": "stderr",
     "output_type": "stream",
     "text": [
      "c:\\ANN_implementation\\venv_new\\Lib\\site-packages\\sklearn\\utils\\validation.py:2739: UserWarning: X does not have valid feature names, but OneHotEncoder was fitted with feature names\n",
      "  warnings.warn(\n"
     ]
    },
    {
     "data": {
      "text/html": [
       "<div>\n",
       "<style scoped>\n",
       "    .dataframe tbody tr th:only-of-type {\n",
       "        vertical-align: middle;\n",
       "    }\n",
       "\n",
       "    .dataframe tbody tr th {\n",
       "        vertical-align: top;\n",
       "    }\n",
       "\n",
       "    .dataframe thead th {\n",
       "        text-align: right;\n",
       "    }\n",
       "</style>\n",
       "<table border=\"1\" class=\"dataframe\">\n",
       "  <thead>\n",
       "    <tr style=\"text-align: right;\">\n",
       "      <th></th>\n",
       "      <th>CreditScore</th>\n",
       "      <th>Gender</th>\n",
       "      <th>Age</th>\n",
       "      <th>Tenure</th>\n",
       "      <th>Balance</th>\n",
       "      <th>NumOfProducts</th>\n",
       "      <th>HasCrCard</th>\n",
       "      <th>IsActiveMember</th>\n",
       "      <th>EstimatedSalary</th>\n",
       "      <th>Geography_France</th>\n",
       "      <th>Geography_Germany</th>\n",
       "      <th>Geography_Spain</th>\n",
       "    </tr>\n",
       "  </thead>\n",
       "  <tbody>\n",
       "    <tr>\n",
       "      <th>0</th>\n",
       "      <td>600</td>\n",
       "      <td>1</td>\n",
       "      <td>40</td>\n",
       "      <td>3</td>\n",
       "      <td>60000</td>\n",
       "      <td>2</td>\n",
       "      <td>1</td>\n",
       "      <td>1</td>\n",
       "      <td>50000</td>\n",
       "      <td>1.0</td>\n",
       "      <td>0.0</td>\n",
       "      <td>0.0</td>\n",
       "    </tr>\n",
       "  </tbody>\n",
       "</table>\n",
       "</div>"
      ],
      "text/plain": [
       "   CreditScore  Gender  Age  Tenure  Balance  NumOfProducts  HasCrCard  \\\n",
       "0          600       1   40       3    60000              2          1   \n",
       "\n",
       "   IsActiveMember  EstimatedSalary  Geography_France  Geography_Germany  \\\n",
       "0               1            50000               1.0                0.0   \n",
       "\n",
       "   Geography_Spain  \n",
       "0              0.0  "
      ]
     },
     "execution_count": 17,
     "metadata": {},
     "output_type": "execute_result"
    }
   ],
   "source": [
    "#encoding prediction data and concatenating with the original prediction data\n",
    "geo_data = geo_encoder.transform([[input_data['Geography']]]) #2d array expected\n",
    "geo_data_df = pd.DataFrame(geo_data,columns=geo_encoder.get_feature_names_out())\n",
    "input_data_df = pd.DataFrame([input_data]) #dictionary is treated as a scalar value- since the datafrme does not accept values without passing the index- we pass a list of dictionary so that it will be converted into a dataframe without index being provided.\n",
    "input_data_df = pd.concat([input_data_df.drop(columns='Geography'),geo_data_df],axis=1)\n",
    "input_data_df['Gender'] = gender_encoder.transform(input_data_df['Gender'])\n",
    "\n",
    "input_data_df"
   ]
  },
  {
   "cell_type": "code",
   "execution_count": 18,
   "id": "259dc43a",
   "metadata": {},
   "outputs": [],
   "source": [
    "#scaling prediction input\n",
    "scaled_input = input_scaler.transform(input_data_df)\n"
   ]
  },
  {
   "cell_type": "code",
   "execution_count": 19,
   "id": "82a50b91",
   "metadata": {},
   "outputs": [
    {
     "name": "stdout",
     "output_type": "stream",
     "text": [
      "\u001b[1m1/1\u001b[0m \u001b[32m━━━━━━━━━━━━━━━━━━━━\u001b[0m\u001b[37m\u001b[0m \u001b[1m0s\u001b[0m 181ms/step\n",
      "[[0.01962095]]\n",
      "Customer will not exit\n"
     ]
    }
   ],
   "source": [
    "#predict if the employee will exit or not\n",
    "predicted_output = model.predict(scaled_input)\n",
    "print(predicted_output)\n",
    "predicted_probability = predicted_output[0][0]\n",
    "if predicted_probability>0.5:\n",
    "    print(\"Customer will exit\")\n",
    "else:\n",
    "    print(\"Customer will not exit\")\n"
   ]
  }
 ],
 "metadata": {
  "kernelspec": {
   "display_name": "Python 3",
   "language": "python",
   "name": "python3"
  },
  "language_info": {
   "codemirror_mode": {
    "name": "ipython",
    "version": 3
   },
   "file_extension": ".py",
   "mimetype": "text/x-python",
   "name": "python",
   "nbconvert_exporter": "python",
   "pygments_lexer": "ipython3",
   "version": "3.12.0"
  }
 },
 "nbformat": 4,
 "nbformat_minor": 5
}
